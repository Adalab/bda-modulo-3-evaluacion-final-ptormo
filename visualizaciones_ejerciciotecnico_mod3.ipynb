{
 "cells": [
  {
   "cell_type": "markdown",
   "id": "096f1ef0",
   "metadata": {},
   "source": [
    "Fase 2: Visualización\n",
    "Usando las herramientas de visualización que has aprendido durante este módulo, contesta a las siguientes\n",
    "gráficas usando la mejor gráfica que consideres:\n",
    ". ¿Cómo se distribuye la cantidad de vuelos reservados por mes durante el año? #agrupar x mes, sumar vuelos:booked flights barplot\n",
    ". ¿Existe una relación entre la distancia de los vuelos y los puntos acumulados por los cliente? relacion:scatterplot/ distance y points accumulated\n",
    ". ¿Cuál es la distribución de los clientes por provincia o estado? province countplot\n",
    ". ¿Cómo se compara el salario promedio entre los diferentes niveles educativos de los clientes? gropuby education /salary, sacar mean \n",
    ". ¿Cuál es la proporción de clientes con diferentes tipos de tarjetas de fidelidad? pieplot loyaltycard\n",
    ". ¿Cómo se distribuyen los clientes según su estado civil y género? countplot /gender, marital status\n",
    "\n",
    "#barplot promedio, estadística / countplot: var.categórica value_counts"
   ]
  }
 ],
 "metadata": {
  "language_info": {
   "name": "python"
  }
 },
 "nbformat": 4,
 "nbformat_minor": 5
}
